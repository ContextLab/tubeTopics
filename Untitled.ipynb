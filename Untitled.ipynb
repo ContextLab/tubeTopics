{
 "cells": [
  {
   "cell_type": "code",
   "execution_count": 24,
   "metadata": {
    "collapsed": false
   },
   "outputs": [],
   "source": [
    "import pandas as pd\n",
    "import numpy as np\n",
    "data = pd.read_json('test.txt')\n",
    "weights = data['weights']\n",
    "weightsArr = []\n",
    "for a in weights:\n",
    "    weightsArr.append((np.array(a).astype(np.float)))\n",
    "weightsArr = np.array(weightsArr)"
   ]
  },
  {
   "cell_type": "code",
   "execution_count": 25,
   "metadata": {
    "collapsed": false
   },
   "outputs": [],
   "source": [
    "#FOR CLEANUP##################################################\n",
    "\n",
    "#may want to add ability to read pandas data frames\n",
    "#may want to add fancier plotting options\n",
    "\n",
    "#FOR TESTING##################################################\n",
    "\t\n",
    "#x=np.array([[1], [2], [3], [4]]) \n",
    "#x=np.array([[1, 11], [2, 12], [3, 13], [4, 14]])\n",
    "#x=np.array([[1, 11, 21], [2, 12, 22], [3, 13, 33], [4, 14, 44]])\n",
    "#x=np.array([[1, 11, 21, 31], [2, 12, 22, 32], [3, 13, 33, 43], [4, 14, 44, 54]])\n",
    "\n",
    "##############################################################\n",
    "\n",
    "import numpy as np \n",
    "import matplotlib.pyplot as plt \n",
    "from mpl_toolkits.mplot3d import Axes3D\n",
    "from sklearn.decomposition import PCA\n",
    "\n",
    "def plot_coords(x, *args, **kwargs):\n",
    "    \"\"\"\n",
    "    inputs: TxD matrix of observations\n",
    "               T-number of coords\n",
    "               D-dimensionality of each observation\n",
    "               *Nans treated as missing observations\n",
    "            type (specify the type of plot)\n",
    "               see http://matplotlib.org/api/axes_api.html#matplotlib.axes.Axes.plot for available options\n",
    "    outputs: 1-, 2-, or 3-dimensional representation of the data\n",
    "    \"\"\"\n",
    "\n",
    "    def dispatch(x):\n",
    "        #determine how many dimensions (number of columns)\n",
    "        if x.shape[-1] == 1:\n",
    "            plot1D(x)\n",
    "        elif x.shape[-1] == 2:\n",
    "            plot2D(x)\n",
    "        elif x.shape[-1] == 3:\n",
    "            plot3D(x)\n",
    "        elif x.shape[-1] > 3:\n",
    "            if x.shape[0] == 1:\n",
    "                plot3D(np.array([0, 0, 0], ndmin=2))\n",
    "            else:\n",
    "                plot3D(reduceD(x, 3))\n",
    "\n",
    "    def plot1D(data):\n",
    "        x = np.array(np.arange(len(data)), ndmin=2).T\n",
    "        plot2D(np.hstack((x, data)))\n",
    "\n",
    "    def plot2D(data):\n",
    "        # type: (object) -> object\n",
    "        #if 2d, make a scatter\n",
    "        plt.plot(data[:,0], data[:,1], *args, **kwargs)\n",
    "\n",
    "    def plot3D(data):\n",
    "        #if 3d, make a 3d scatter\n",
    "        fig = plt.figure()\n",
    "        ax = fig.add_subplot(111, projection='3d')\n",
    "        ax.plot(data[:,0], data[:,1], data[:,2], *args, **kwargs)\n",
    "\n",
    "    def reduceD(x, ndim):\n",
    "        #if more than 3d, reduce to 3 (PCA), then re-run\n",
    "        m = PCA(n_components=ndim, whiten=True)\n",
    "        #n_components=3--> reduce to 3 dimensions\n",
    "        m.fit(x)\n",
    "        return m.transform(x)\n",
    "\t\t\n",
    "    dispatch(x)\n",
    "    plt.show()\n"
   ]
  },
  {
   "cell_type": "code",
   "execution_count": null,
   "metadata": {
    "collapsed": false
   },
   "outputs": [],
   "source": [
    "plot_coords(weightsArr,'.')"
   ]
  },
  {
   "cell_type": "code",
   "execution_count": null,
   "metadata": {
    "collapsed": false
   },
   "outputs": [],
   "source": []
  },
  {
   "cell_type": "code",
   "execution_count": null,
   "metadata": {
    "collapsed": true
   },
   "outputs": [],
   "source": []
  }
 ],
 "metadata": {
  "kernelspec": {
   "display_name": "Python 2",
   "language": "python",
   "name": "python2"
  },
  "language_info": {
   "codemirror_mode": {
    "name": "ipython",
    "version": 2
   },
   "file_extension": ".py",
   "mimetype": "text/x-python",
   "name": "python",
   "nbconvert_exporter": "python",
   "pygments_lexer": "ipython2",
   "version": "2.7.11"
  },
  "widgets": {
   "state": {},
   "version": "1.1.2"
  }
 },
 "nbformat": 4,
 "nbformat_minor": 0
}
